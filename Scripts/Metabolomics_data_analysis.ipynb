{
 "cells": [
  {
   "cell_type": "markdown",
   "id": "b6ed521d",
   "metadata": {},
   "source": [
    "# Script to perform data mining on cocoa metabolomic data\n",
    "\n",
    "Metabolomic data from 20 reaserch articles were collected and organized in a table to perform some comparisons of cocoa composition based on several factors such as geographical origin, cocoa type, processing stage, and so on."
   ]
  },
  {
   "cell_type": "code",
   "execution_count": 1,
   "id": "cf420377",
   "metadata": {},
   "outputs": [],
   "source": [
    "import pandas as pd\n",
    "import numpy as np\n",
    "import seaborn as sns\n",
    "from matplotlib import pyplot as plt"
   ]
  },
  {
   "cell_type": "code",
   "execution_count": 12,
   "id": "2ffcac49",
   "metadata": {
    "scrolled": true
   },
   "outputs": [
    {
     "data": {
      "text/html": [
       "<div>\n",
       "<style scoped>\n",
       "    .dataframe tbody tr th:only-of-type {\n",
       "        vertical-align: middle;\n",
       "    }\n",
       "\n",
       "    .dataframe tbody tr th {\n",
       "        vertical-align: top;\n",
       "    }\n",
       "\n",
       "    .dataframe thead th {\n",
       "        text-align: right;\n",
       "    }\n",
       "</style>\n",
       "<table border=\"1\" class=\"dataframe\">\n",
       "  <thead>\n",
       "    <tr style=\"text-align: right;\">\n",
       "      <th></th>\n",
       "      <th>Compound name</th>\n",
       "      <th>Flavor profile</th>\n",
       "      <th>Fine-flavor note</th>\n",
       "      <th>Fine-flavor cocoa</th>\n",
       "      <th>Bulk cocoa</th>\n",
       "      <th>Fermentation</th>\n",
       "      <th>Drying</th>\n",
       "      <th>Roasting</th>\n",
       "      <th>America</th>\n",
       "      <th>Africa</th>\n",
       "      <th>Asia</th>\n",
       "      <th>References</th>\n",
       "    </tr>\n",
       "  </thead>\n",
       "  <tbody>\n",
       "    <tr>\n",
       "      <th>0</th>\n",
       "      <td>1-Hydroxy-2-propanone</td>\n",
       "      <td>Unknown</td>\n",
       "      <td>0</td>\n",
       "      <td>1</td>\n",
       "      <td>1</td>\n",
       "      <td>0</td>\n",
       "      <td>1</td>\n",
       "      <td>1</td>\n",
       "      <td>1</td>\n",
       "      <td>1</td>\n",
       "      <td>0</td>\n",
       "      <td>1,6</td>\n",
       "    </tr>\n",
       "    <tr>\n",
       "      <th>1</th>\n",
       "      <td>2,3-Butanedione</td>\n",
       "      <td>buttery</td>\n",
       "      <td>0</td>\n",
       "      <td>1</td>\n",
       "      <td>1</td>\n",
       "      <td>0</td>\n",
       "      <td>1</td>\n",
       "      <td>1</td>\n",
       "      <td>1</td>\n",
       "      <td>1</td>\n",
       "      <td>1</td>\n",
       "      <td>1,6,8,11</td>\n",
       "    </tr>\n",
       "    <tr>\n",
       "      <th>2</th>\n",
       "      <td>2-Methylpropanoic acid</td>\n",
       "      <td>Unknown</td>\n",
       "      <td>0</td>\n",
       "      <td>0</td>\n",
       "      <td>1</td>\n",
       "      <td>0</td>\n",
       "      <td>1</td>\n",
       "      <td>1</td>\n",
       "      <td>1</td>\n",
       "      <td>0</td>\n",
       "      <td>0</td>\n",
       "      <td>1</td>\n",
       "    </tr>\n",
       "    <tr>\n",
       "      <th>3</th>\n",
       "      <td>Pentanal</td>\n",
       "      <td>bready, fermented, berry, malt, pungent, fruit...</td>\n",
       "      <td>1</td>\n",
       "      <td>0</td>\n",
       "      <td>1</td>\n",
       "      <td>0</td>\n",
       "      <td>1</td>\n",
       "      <td>1</td>\n",
       "      <td>1</td>\n",
       "      <td>0</td>\n",
       "      <td>0</td>\n",
       "      <td>1</td>\n",
       "    </tr>\n",
       "    <tr>\n",
       "      <th>4</th>\n",
       "      <td>3-Hydroxy-2-butanone</td>\n",
       "      <td>Butter, cream</td>\n",
       "      <td>0</td>\n",
       "      <td>1</td>\n",
       "      <td>1</td>\n",
       "      <td>0</td>\n",
       "      <td>1</td>\n",
       "      <td>1</td>\n",
       "      <td>1</td>\n",
       "      <td>1</td>\n",
       "      <td>1</td>\n",
       "      <td>1,4,6,12</td>\n",
       "    </tr>\n",
       "  </tbody>\n",
       "</table>\n",
       "</div>"
      ],
      "text/plain": [
       "            Compound name                                     Flavor profile  \\\n",
       "0   1-Hydroxy-2-propanone                                            Unknown   \n",
       "1         2,3-Butanedione                                            buttery   \n",
       "2  2-Methylpropanoic acid                                            Unknown   \n",
       "3                Pentanal  bready, fermented, berry, malt, pungent, fruit...   \n",
       "4    3-Hydroxy-2-butanone                                      Butter, cream   \n",
       "\n",
       "   Fine-flavor note  Fine-flavor cocoa  Bulk cocoa  Fermentation  Drying  \\\n",
       "0                 0                  1           1             0       1   \n",
       "1                 0                  1           1             0       1   \n",
       "2                 0                  0           1             0       1   \n",
       "3                 1                  0           1             0       1   \n",
       "4                 0                  1           1             0       1   \n",
       "\n",
       "   Roasting  America  Africa  Asia References  \n",
       "0         1        1       1     0        1,6  \n",
       "1         1        1       1     1   1,6,8,11  \n",
       "2         1        1       0     0          1  \n",
       "3         1        1       0     0          1  \n",
       "4         1        1       1     1   1,4,6,12  "
      ]
     },
     "execution_count": 12,
     "metadata": {},
     "output_type": "execute_result"
    }
   ],
   "source": [
    "#Upload the data\n",
    "data = pd.read_excel('Metabolomics.xlsx')\n",
    "data.head()"
   ]
  },
  {
   "cell_type": "markdown",
   "id": "a174d328",
   "metadata": {},
   "source": [
    "# 2. Correlation analysis between cocoa type and geographical origin \n",
    "\n",
    "Two correlation analysis were performed. The first one evaluate correlation betwenn cocoa types and geographical origin, while the second one compares cocoa processing stages. This analysis was performed to explore the relation between the collected variables"
   ]
  },
  {
   "cell_type": "code",
   "execution_count": 13,
   "id": "b565c1db",
   "metadata": {},
   "outputs": [
    {
     "data": {
      "image/png": "[encoded data removed]",
      "text/plain": [
       "<Figure size 432x288 with 2 Axes>"
      ]
     },
     "metadata": {
      "needs_background": "light"
     },
     "output_type": "display_data"
    }
   ],
   "source": [
    "correlation_data = data.drop(['Compound name', 'Flavor profile', 'Fine-flavor note', 'Fermentation', 'Drying', 'Roasting', 'References'], axis=1)\n",
    "correlation_matrix = correlation_data.corr()\n",
    "sns.heatmap(correlation_matrix, annot = True)\n",
    "plt.show()"
   ]
  },
  {
   "cell_type": "code",
   "execution_count": 14,
   "id": "dac22533",
   "metadata": {},
   "outputs": [
    {
     "data": {
      "image/png": "[encoded data removed]",
      "text/plain": [
       "<Figure size 432x288 with 2 Axes>"
      ]
     },
     "metadata": {
      "needs_background": "light"
     },
     "output_type": "display_data"
    }
   ],
   "source": [
    "correlation_data1 = data.drop(['Compound name', 'Flavor profile', 'Fine-flavor note', 'Fine-flavor cocoa', 'Bulk cocoa', 'America', 'Africa', 'Asia', 'References'], axis=1)\n",
    "correlation_matrix1 = correlation_data1.corr()\n",
    "sns.heatmap(correlation_matrix1, annot = True)\n",
    "plt.savefig(\"Figure 3.jpg\", dpi=2000)\n",
    "plt.show()"
   ]
  },
  {
   "cell_type": "markdown",
   "id": "c9954545",
   "metadata": {},
   "source": [
    "# 3. Calculating Jaccard Score\n",
    "\n",
    "According to the sckit-learn Jaccard similarity coefficien is defined as \"the size of the intersection divided by the size of the union of two label sets\". We used this metric to compare binary vectors. This metric indicates the level of similarity of two sets. The highest the Jaccard score the higher the similarity"
   ]
  },
  {
   "cell_type": "code",
   "execution_count": 15,
   "id": "937df687",
   "metadata": {
    "scrolled": true
   },
   "outputs": [
    {
     "name": "stdout",
     "output_type": "stream",
     "text": [
      "america_asia:  0.24205748865355523\n",
      "america_africa:  0.2620904836193448\n",
      "africa_asia:  0.36538461538461536\n",
      "america_fine:  0.7851373182552503\n",
      "america_bulk:  0.42857142857142855\n",
      "africa_bulk:  0.45083932853717024\n",
      "africa_fine:  0.27697841726618705\n",
      "asia_bulk:  0.4655581947743468\n",
      "asia_fine:  0.296229802513465\n",
      "fermentation_drying:  0.19206680584551147\n",
      "fermentation_roasting:  0.11208151382823872\n",
      "drying_roasting:  0.39400428265524623\n"
     ]
    }
   ],
   "source": [
    "import numpy as np\n",
    "from sklearn.metrics import jaccard_score\n",
    "\n",
    "#Vectorize all the binary variables    \n",
    "vector_asia = data ['Asia'].tolist()\n",
    "vector_america = data ['America'].tolist()\n",
    "vector_africa = data ['Africa'].tolist()\n",
    "vector_bulk = data ['Bulk cocoa'].tolist()\n",
    "vector_fine = data ['Fine-flavor cocoa'].tolist()\n",
    "vector_fermentation = data ['Fermentation'].tolist()\n",
    "vector_drying = data ['Drying'].tolist()\n",
    "vector_roasting = data ['Roasting'].tolist()\n",
    "\n",
    "#Calculate Jaccard Scores\n",
    "america_asia = jaccard_score(vector_asia, vector_america)\n",
    "america_africa = jaccard_score(vector_africa, vector_america)\n",
    "africa_asia = jaccard_score(vector_africa, vector_asia)\n",
    "\n",
    "america_fine = jaccard_score(vector_fine, vector_america)\n",
    "america_bulk = jaccard_score(vector_bulk, vector_america)\n",
    "africa_bulk = jaccard_score(vector_bulk, vector_africa)\n",
    "africa_fine = jaccard_score(vector_fine, vector_africa)\n",
    "asia_bulk = jaccard_score(vector_bulk, vector_asia)\n",
    "asia_fine = jaccard_score(vector_fine, vector_asia)\n",
    "\n",
    "fermentation_drying = jaccard_score(vector_fermentation, vector_drying)\n",
    "fermentation_roasting = jaccard_score(vector_fermentation, vector_roasting)\n",
    "drying_roasting = jaccard_score(vector_drying, vector_roasting)\n",
    "\n",
    "#print the results\n",
    "print ('america_asia: ', america_asia)\n",
    "print ('america_africa: ', america_africa)\n",
    "print ('africa_asia: ', africa_asia)\n",
    "print ('america_fine: ', america_fine)\n",
    "print ('america_bulk: ', america_bulk)\n",
    "print ('africa_bulk: ', africa_bulk)\n",
    "print ('africa_fine: ', africa_fine)\n",
    "print ('asia_bulk: ', asia_bulk)\n",
    "print ('asia_fine: ', asia_fine)\n",
    "print ('fermentation_drying: ', fermentation_drying)\n",
    "print ('fermentation_roasting: ', fermentation_roasting)\n",
    "print ('drying_roasting: ', drying_roasting)"
   ]
  },
  {
   "cell_type": "markdown",
   "id": "14853d78",
   "metadata": {},
   "source": [
    "# 4.Flavor profile of the collected molecules\n",
    "\n",
    "Some statistics about the sensorial profile of the known molecules. Also the molecules weure classified acording to the sensorial profile they had: wether it was fine-flavor or not. For the molecules with fine-flavor profile was extracted the types of molecules based on the nomenclature"
   ]
  },
  {
   "cell_type": "code",
   "execution_count": 16,
   "id": "c6737a1a",
   "metadata": {},
   "outputs": [
    {
     "name": "stdout",
     "output_type": "stream",
     "text": [
      "347 molecules do not have a known flavor profile\n",
      "These molecules represent the 49.57142857142857  % of the collected data\n"
     ]
    }
   ],
   "source": [
    "Flavor_profile = data ['Flavor profile'].tolist()\n",
    "\n",
    "unknown_flavor = 0\n",
    "\n",
    "#Find the number of molecules without flavor profile\n",
    "for i in Flavor_profile: \n",
    "    if i == 'Unknown': \n",
    "        unknown_flavor += 1\n",
    "    else: \n",
    "        pass\n",
    "    \n",
    "# Find the total number of compound\n",
    "total_compounds = data.shape[0]\n",
    "\n",
    "#Calculate the percentage of molecules without flavor profile\n",
    "percentage_unknown = (unknown_flavor / total_compounds) * 100\n",
    "\n",
    "#print the results\n",
    "print (unknown_flavor, 'molecules do not have a known flavor profile')\n",
    "print ('These molecules represent the', percentage_unknown, ' % of the collected data')\n"
   ]
  },
  {
   "cell_type": "code",
   "execution_count": 17,
   "id": "7db9d4b8",
   "metadata": {},
   "outputs": [
    {
     "name": "stdout",
     "output_type": "stream",
     "text": [
      "215 add fine-flavor notes to the cocoa\n",
      "These molecules represent the 30.714285714285715  % of the collected data\n"
     ]
    }
   ],
   "source": [
    "Fine_flavor = data ['Fine-flavor note'].tolist()\n",
    "\n",
    "compound_list = data ['Compound name'].tolist()\n",
    "\n",
    "Fine_note = 0\n",
    "\n",
    "Fine_flavor_molecules = []\n",
    "\n",
    "count = 0\n",
    "\n",
    "#Find the number of molecules with fine-flavor notes\n",
    "for i in Fine_flavor: \n",
    "    if i == 1: \n",
    "        Fine_note += 1\n",
    "        molecule = compound_list [count]\n",
    "        Fine_flavor_molecules.append(molecule)\n",
    "    else: \n",
    "        pass\n",
    "    \n",
    "    count += 1\n",
    "\n",
    "# Calculate the percentage of moleculeswith fine-flavor notes\n",
    "percentage_fine = (Fine_note / data.shape[0]) * 100\n",
    "\n",
    "#print the results\n",
    "print (Fine_note, 'add fine-flavor notes to the cocoa')\n",
    "print ('These molecules represent the', percentage_fine, ' % of the collected data')"
   ]
  },
  {
   "cell_type": "markdown",
   "id": "d8da011d",
   "metadata": {},
   "source": [
    "# 5. Discriminating fine-flavor molecules by type\n",
    "\n",
    "In order to know the types of molecules linked to fine-flavor notes in cocoa, we extracted the molecule type using the IUPAC nomenclature and extracting the molecule type from the name"
   ]
  },
  {
   "cell_type": "code",
   "execution_count": 18,
   "id": "136a05e6",
   "metadata": {},
   "outputs": [],
   "source": [
    "#This function return the amount of molecules of each type in a list\n",
    "def compound_type(list_of_molecules):\n",
    "    \n",
    "    Pyrazines = 0\n",
    "    Aldehydes = 0\n",
    "    Esters = 0\n",
    "    Alcohols = 0\n",
    "    Ketones = 0\n",
    "    Acids = 0\n",
    "    Other = 0\n",
    "    \n",
    "    for i in list_of_molecules: \n",
    "        \n",
    "        # Get the lenth of the compound name\n",
    "        compound = i\n",
    "        length = len(compound) \n",
    "        \n",
    "        #Find Pyrazines\n",
    "        if compound[length - 8 :] == 'pyrazine':\n",
    "            Pyrazines += 1\n",
    "        \n",
    "        #Find Aldehydes\n",
    "        elif compound[length - 6 :] == 'dehyde' or compound[length - 3 :] == 'nal':\n",
    "            Aldehydes += 1  \n",
    "        \n",
    "        #Find Esters\n",
    "        elif compound[length - 3 :] == 'ate':\n",
    "            Esters += 1 \n",
    "        \n",
    "        #Find Alcohols\n",
    "        elif compound[length - 2 :] == 'ol':\n",
    "            Alcohols += 1\n",
    "        \n",
    "        #Find Ketones\n",
    "        elif compound[length - 3 :] == 'one':\n",
    "            Ketones += 1\n",
    "        \n",
    "        #Find Acids\n",
    "        elif compound[length - 4 :] == 'acid':\n",
    "            Acids += 1\n",
    "        \n",
    "        else: \n",
    "            Other += 1\n",
    "            \n",
    "    return  (Esters, Alcohols, Aldehydes, Pyrazines, Ketones, Acids)\n",
    "    \n",
    "    #Print the results\n",
    "    #print ('Pyrazines= ', Pyrazines)\n",
    "    #print ('Aldehydes= ', Aldehydes)\n",
    "    #print ('Alcohols= ', Alcohols)\n",
    "    #print ('Esters= ', Esters)\n",
    "    #print ('Ketones= ', Ketones)\n",
    "    #print ('Acids= ', Acids)\n",
    "    #print ('Other= ', Other)"
   ]
  },
  {
   "cell_type": "code",
   "execution_count": 19,
   "id": "06691e96",
   "metadata": {},
   "outputs": [
    {
     "data": {
      "text/plain": [
       "Text(0, 0.5, 'Amount of molecules')"
      ]
     },
     "execution_count": 19,
     "metadata": {},
     "output_type": "execute_result"
    },
    {
     "data": {
      "image/png": "[encoded data removed]",
      "text/plain": [
       "<Figure size 432x288 with 1 Axes>"
      ]
     },
     "metadata": {
      "needs_background": "light"
     },
     "output_type": "display_data"
    }
   ],
   "source": [
    "#Find the type of molecule\n",
    "fine_flavor_type = compound_type (Fine_flavor_molecules)\n",
    "\n",
    "#Plot the results\n",
    "y = ['Esters', 'Alcohols', 'Aldehydes', 'Pyrazines', 'Ketones', 'Acids']\n",
    "plt.bar(y, fine_flavor_type)\n",
    "plt.ylabel('Amount of molecules')"
   ]
  },
  {
   "cell_type": "markdown",
   "id": "d8ffe90b",
   "metadata": {},
   "source": [
    "# 6. Cocoa type composition\n",
    "A comparison of bulk and fine flavor cocoa was performed based only on the presence or absence of the collected molecules. For each cocoa type was obteined the number of molecules with fine-flavor notes"
   ]
  },
  {
   "cell_type": "code",
   "execution_count": 20,
   "id": "5290b89b",
   "metadata": {},
   "outputs": [
    {
     "name": "stdout",
     "output_type": "stream",
     "text": [
      "302 molecules have been adentified only in fine-flavor cocoa\n",
      "197 molecules have been adentified only in bulk cocoa\n",
      "201 molecules are present in both cocoa type\n"
     ]
    }
   ],
   "source": [
    "#Compare the composition of each cocoa type\n",
    "fine = data ['Fine-flavor cocoa'].tolist()\n",
    "bulk = data ['Bulk cocoa'].tolist()\n",
    "compound_list = data ['Compound name'].tolist()\n",
    "\n",
    "only_fine = []\n",
    "count_fine = 0\n",
    "only_bulk = []\n",
    "count_bulk = 0\n",
    "both_types = []\n",
    "count_both = 0\n",
    "index = 0\n",
    "\n",
    "for i in fine: \n",
    "    bulk_presence = bulk[index]\n",
    "    molecule = compound_list[index]\n",
    "    \n",
    "    #Find molecules present in both cocoa type\n",
    "    if i == 1 and bulk_presence == 1: \n",
    "        count_both += 1\n",
    "        both_types.append(molecule)\n",
    "    \n",
    "    #Find molecules present only in fine-flavor cocoa\n",
    "    elif i == 1 and bulk_presence == 0: \n",
    "        count_fine += 1\n",
    "        only_fine.append(molecule)\n",
    "    \n",
    "    #Find molecules present only in bulk cocoa\n",
    "    else: \n",
    "        count_bulk += 1\n",
    "        only_bulk.append(molecule)\n",
    "    index += 1\n",
    "\n",
    "#Print the results\n",
    "print (count_fine, 'molecules have been adentified only in fine-flavor cocoa')\n",
    "print (count_bulk, 'molecules have been adentified only in bulk cocoa')\n",
    "print (count_both, 'molecules are present in both cocoa type')"
   ]
  },
  {
   "cell_type": "code",
   "execution_count": 21,
   "id": "b0db0e5f",
   "metadata": {},
   "outputs": [
    {
     "data": {
      "text/plain": [
       "Text(0, 0.5, 'Amount of molecules')"
      ]
     },
     "execution_count": 21,
     "metadata": {},
     "output_type": "execute_result"
    },
    {
     "data": {
      "image/png": "[encoded data removed]",
      "text/plain": [
       "<Figure size 432x288 with 1 Axes>"
      ]
     },
     "metadata": {
      "needs_background": "light"
     },
     "output_type": "display_data"
    }
   ],
   "source": [
    "#Plot the results of cocoa composition by type\n",
    "Z = ['fine-flavor cocoa', 'Bulk cocoa', 'both types']\n",
    "list_count = [count_fine, count_bulk, count_both]\n",
    "plt.bar(Z, list_count)\n",
    "plt.ylabel('Amount of molecules')"
   ]
  },
  {
   "cell_type": "code",
   "execution_count": 22,
   "id": "3009def0",
   "metadata": {},
   "outputs": [
    {
     "data": {
      "text/plain": [
       "Text(0, 0.5, 'Amount of molecules')"
      ]
     },
     "execution_count": 22,
     "metadata": {},
     "output_type": "execute_result"
    },
    {
     "data": {
      "image/png": "[encoded data removed]",
      "text/plain": [
       "<Figure size 432x288 with 1 Axes>"
      ]
     },
     "metadata": {
      "needs_background": "light"
     },
     "output_type": "display_data"
    }
   ],
   "source": [
    "#Find fine-flavor molecules in fine-flavor cocoa\n",
    "fine_molecules_in_fine = list(set( only_fine).intersection(Fine_flavor_molecules))\n",
    "amount_fine = len(fine_molecules_in_fine)\n",
    "\n",
    "#Find fine-flavor molecules in bulk cocoa\n",
    "fine_molecules_in_bulk = list(set( only_bulk).intersection(Fine_flavor_molecules))\n",
    "amount_bulk = len(fine_molecules_in_bulk)\n",
    "\n",
    "#Find fine flavor molecules in both cocoa types\n",
    "fine_molecules_in_both = list(set( both_types).intersection(Fine_flavor_molecules))\n",
    "amount_both = len(fine_molecules_in_both)\n",
    "\n",
    "#Plot the results\n",
    "b = ['fine-flavor cocoa', 'Bulk cocoa', 'both types']\n",
    "list_amounts = [amount_fine, amount_bulk, amount_both]\n",
    "plt.bar(b, list_amounts)\n",
    "plt.ylabel('Amount of molecules')"
   ]
  },
  {
   "cell_type": "markdown",
   "id": "efa028a4",
   "metadata": {},
   "source": [
    "# 7. Characteristic molecules for processing stage\n",
    "\n",
    "To performed this analysis, we compared the binary vectors corresponding to each processing stage. with thsi we obtained molecules arising during processing and molecules remaining in cocoa beans during processing"
   ]
  },
  {
   "cell_type": "code",
   "execution_count": 23,
   "id": "034ba763",
   "metadata": {},
   "outputs": [
    {
     "data": {
      "text/plain": [
       "Text(0, 0.5, 'Amount of molecules')"
      ]
     },
     "execution_count": 23,
     "metadata": {},
     "output_type": "execute_result"
    },
    {
     "data": {
      "image/png": "[encoded data removed]",
      "text/plain": [
       "<Figure size 432x288 with 1 Axes>"
      ]
     },
     "metadata": {
      "needs_background": "light"
     },
     "output_type": "display_data"
    }
   ],
   "source": [
    "#Find molecules for stage\n",
    "Fermentation = data ['Fermentation'].tolist()\n",
    "Drying = data ['Drying'].tolist()\n",
    "Roasting = data ['Roasting'].tolist()\n",
    "\n",
    "Fermentation_mol = []\n",
    "Drying_mol = []\n",
    "Roasting_mol = []\n",
    "All_stages = []\n",
    "\n",
    "index = 0\n",
    "\n",
    "for i in Fermentation: \n",
    "    \n",
    "    dry = Drying[index]\n",
    "    roast = Roasting[index]\n",
    "    mol = compound_list[index]\n",
    "\n",
    "    #Find unique molecules for fermentation\n",
    "    if i == 1 and dry == 0 and roast == 0:\n",
    "        Fermentation_mol.append(mol)\n",
    "    \n",
    "    #Find unique molecules for drying\n",
    "    elif i == 0 and dry == 1 and roast == 0:\n",
    "        Drying_mol.append(mol)\n",
    "    \n",
    "    #Find unique molecules for roasting   \n",
    "    elif i == 0 and dry == 0 and roast == 1:\n",
    "        Roasting_mol.append(mol)\n",
    "    \n",
    "    #Find conserve molecules\n",
    "    elif i == 1 and dry == 1 and roast == 1:\n",
    "        All_stages.append(mol)\n",
    "        \n",
    "    index += 1\n",
    "\n",
    "#Plot the results\n",
    "d = ['All stages', 'Fermentation', 'Drying', 'Roasting']\n",
    "list_stages = [len(All_stages), len(Fermentation_mol), len(Drying_mol), len(Roasting_mol)]\n",
    "plt.bar(d, list_stages)\n",
    "plt.ylabel('Amount of molecules')\n"
   ]
  },
  {
   "cell_type": "code",
   "execution_count": 24,
   "id": "a4cd0480",
   "metadata": {},
   "outputs": [
    {
     "data": {
      "text/plain": [
       "Text(0, 0.5, 'Amount of molecules')"
      ]
     },
     "execution_count": 24,
     "metadata": {},
     "output_type": "execute_result"
    },
    {
     "data": {
      "image/png": "[encoded data removed]",
      "text/plain": [
       "<Figure size 432x288 with 1 Axes>"
      ]
     },
     "metadata": {
      "needs_background": "light"
     },
     "output_type": "display_data"
    }
   ],
   "source": [
    "#Find fine-flavor molecules in fermentation\n",
    "fine_molecules_in_fermentation = list(set(Fermentation_mol).intersection(Fine_flavor_molecules))\n",
    "fermentation_fine = len(fine_molecules_in_fermentation)\n",
    "\n",
    "#Find fine-flavor molecules in drying\n",
    "fine_molecules_in_drying= list(set(Drying_mol).intersection(Fine_flavor_molecules))\n",
    "drying_fine = len(fine_molecules_in_drying)\n",
    "\n",
    "#Find fine flavor molecules in roasting\n",
    "fine_molecules_in_roasting = list(set(Roasting_mol).intersection(Fine_flavor_molecules))\n",
    "roasting_fine = len(fine_molecules_in_roasting)\n",
    "\n",
    "#Find fine flavor molecules in all stages\n",
    "fine_molecules_in_all = list(set(All_stages).intersection(Fine_flavor_molecules))\n",
    "All_fine = len(fine_molecules_in_roasting)\n",
    "\n",
    "#Plot the results\n",
    "e = ['All stages', 'Fermentation', 'Drying', 'Roasting']\n",
    "list_stages_fine = [All_fine, fermentation_fine, drying_fine, roasting_fine]\n",
    "plt.bar(e, list_stages_fine)\n",
    "plt.ylabel('Amount of molecules')"
   ]
  },
  {
   "cell_type": "markdown",
   "id": "3eecfd53",
   "metadata": {},
   "source": [
    "# 8. Geographical origin\n",
    "\n",
    "In this section we compared the geographical origin and the presence or absence of molecules depending on this variable. We also analyzed the presence of molecules with fine-flavor notes by region"
   ]
  },
  {
   "cell_type": "code",
   "execution_count": 25,
   "id": "1ea2db20",
   "metadata": {},
   "outputs": [
    {
     "data": {
      "text/plain": [
       "Text(0, 0.5, 'Amount of molecules')"
      ]
     },
     "execution_count": 25,
     "metadata": {},
     "output_type": "execute_result"
    },
    {
     "data": {
      "image/png": "[encoded data removed]",
      "text/plain": [
       "<Figure size 432x288 with 1 Axes>"
      ]
     },
     "metadata": {
      "needs_background": "light"
     },
     "output_type": "display_data"
    }
   ],
   "source": [
    "#Find molecules for stage\n",
    "America = data ['America'].tolist()\n",
    "Africa = data ['Africa'].tolist()\n",
    "Asia = data ['Asia'].tolist()\n",
    "\n",
    "America_mol = []\n",
    "Asia_mol = []\n",
    "Africa_mol = []\n",
    "All_regions = []\n",
    "\n",
    "index = 0\n",
    "\n",
    "for i in America: \n",
    "    \n",
    "    Asia_presence = Asia [index]\n",
    "    Africa_presence = Africa [index]\n",
    "    mol_region = compound_list[index]\n",
    "\n",
    "    #Find unique molecules for America\n",
    "    if i == 1 and Asia_presence == 0 and Africa_presence == 0:\n",
    "        America_mol.append(mol_region)\n",
    "    \n",
    "    #Find unique molecules for Asia\n",
    "    elif i == 0 and Asia_presence == 1 and Africa_presence == 0:\n",
    "        Asia_mol.append(mol_region)\n",
    "    \n",
    "    #Find unique molecules for Africa   \n",
    "    elif i == 0 and Asia_presence == 0 and Africa_presence == 1:\n",
    "        Africa_mol.append(mol_region)\n",
    "    \n",
    "    #Find molecules in all regions\n",
    "    else:\n",
    "        All_regions.append(mol)\n",
    "        \n",
    "    index += 1\n",
    "\n",
    "#Plot the results\n",
    "f = ['All regions', 'America', 'Africa', 'Asia']\n",
    "list_regions = [len(All_regions), len(America_mol), len(Africa_mol), len(Asia_mol)]\n",
    "plt.bar(f, list_stages)\n",
    "plt.ylabel('Amount of molecules')\n"
   ]
  },
  {
   "cell_type": "code",
   "execution_count": 26,
   "id": "4161ae54",
   "metadata": {},
   "outputs": [
    {
     "data": {
      "text/plain": [
       "Text(0, 0.5, 'Amount of molecules')"
      ]
     },
     "execution_count": 26,
     "metadata": {},
     "output_type": "execute_result"
    },
    {
     "data": {
      "image/png": "[encoded data removed]",
      "text/plain": [
       "<Figure size 432x288 with 1 Axes>"
      ]
     },
     "metadata": {
      "needs_background": "light"
     },
     "output_type": "display_data"
    }
   ],
   "source": [
    "#Find fine-flavor molecules in America\n",
    "fine_molecules_in_america = list(set(America_mol).intersection(Fine_flavor_molecules))\n",
    "america_fine = len(fine_molecules_in_america)\n",
    "\n",
    "#Find fine-flavor molecules in Asia\n",
    "fine_molecules_in_asia= list(set(Asia_mol).intersection(Fine_flavor_molecules))\n",
    "asia_fine = len(fine_molecules_in_asia)\n",
    "\n",
    "#Find fine flavor molecules in Africa\n",
    "fine_molecules_in_Africa = list(set(Roasting_mol).intersection(Fine_flavor_molecules))\n",
    "roasting_fine = len(fine_molecules_in_roasting)\n",
    "\n",
    "#Find fine flavor molecules in all stages\n",
    "fine_molecules_in_all = list(set(All_stages).intersection(Fine_flavor_molecules))\n",
    "All_fine = len(fine_molecules_in_roasting)\n",
    "\n",
    "#Plot the results\n",
    "e = ['All stages', 'Fermentation', 'Drying', 'Roasting']\n",
    "list_stages_fine = [All_fine, fermentation_fine, drying_fine, roasting_fine]\n",
    "plt.bar(e, list_stages_fine)\n",
    "plt.ylabel('Amount of molecules')"
   ]
  }
 ],
 "metadata": {
  "kernelspec": {
   "display_name": "Python 3",
   "language": "python",
   "name": "python3"
  },
  "language_info": {
   "codemirror_mode": {
    "name": "ipython",
    "version": 3
   },
   "file_extension": ".py",
   "mimetype": "text/x-python",
   "name": "python",
   "nbconvert_exporter": "python",
   "pygments_lexer": "ipython3",
   "version": "3.8.8"
  }
 },
 "nbformat": 4,
 "nbformat_minor": 5
}
